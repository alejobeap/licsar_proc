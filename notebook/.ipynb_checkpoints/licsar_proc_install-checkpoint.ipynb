{
 "cells": [
  {
   "cell_type": "markdown",
   "metadata": {},
   "source": [
    "Before beginning with the processing, you should set up some of your environment variables that will allow you work with our LiCSAR scripts (using mainly GAMMA processing algorithms):\n",
    "#### 1. setting the path to the LiCSAR modules:\n",
    "let's say the Modules folder is in /nfs/a1/software:\n",
    "```\n",
    "echo '#%Module' > ~/.modulerc  \n",
    "echo 'module use \"/nfs/a1/software/Modules\" ' >> ~/.modulerc  \n",
    "```\n",
    "\n",
    "#### 2. loading a LiCSAR module:\n",
    "```\n",
    "module load licsar_proc\n",
    "```\n",
    "\n",
    "#### 3. creating your temporary directory (a variable LiCSAR_temp that has been defined in the loaded LiCSAR module):\n",
    "```\n",
    "export LiCSAR_temp=$(ls -d /nfs/a*/$USER)/licsar_temp\n",
    "mkdir $LiCSAR_temp\n",
    "cd $LiCSAR_temp\n",
    "```"
   ]
  },
  {
   "cell_type": "code",
   "execution_count": null,
   "metadata": {},
   "outputs": [],
   "source": []
  }
 ],
 "metadata": {
  "kernelspec": {
   "display_name": "Python 3",
   "language": "python",
   "name": "python3"
  },
  "language_info": {
   "codemirror_mode": {
    "name": "ipython",
    "version": 3
   },
   "file_extension": ".py",
   "mimetype": "text/x-python",
   "name": "python",
   "nbconvert_exporter": "python",
   "pygments_lexer": "ipython3",
   "version": "3.7.1"
  }
 },
 "nbformat": 4,
 "nbformat_minor": 2
}
